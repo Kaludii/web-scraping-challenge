{
 "cells": [
  {
   "cell_type": "code",
   "execution_count": 2,
   "id": "ab0e6ba5-adb6-4d0f-8835-75efd4699225",
   "metadata": {},
   "outputs": [],
   "source": [
    "# Import dependencies \n",
    "import pandas as pd\n",
    "import matplotlib.pyplot as plt\n",
    "import json\n",
    "\n",
    "from splinter import Browser\n",
    "from bs4 import BeautifulSoup as BeautifulSoup\n",
    "from webdriver_manager.chrome import ChromeDriverManager"
   ]
  },
  {
   "cell_type": "code",
   "execution_count": 3,
   "id": "6b992500",
   "metadata": {},
   "outputs": [],
   "source": [
    "# Use splinter to setup the browser executable\n",
    "executable_path = {\"executable_path\": ChromeDriverManager().install()}\n",
    "browser = Browser(\"chrome\", **executable_path, headless=False)"
   ]
  },
  {
   "cell_type": "markdown",
   "id": "354b08df",
   "metadata": {},
   "source": [
    "## 2. visit the Mars Temperature Data Links to an external Data site."
   ]
  },
  {
   "cell_type": "code",
   "execution_count": 4,
   "id": "a83b92d3",
   "metadata": {},
   "outputs": [],
   "source": [
    "# Browser will auto visit to the URL\n",
    "url = \"https://data-class-mars-challenge.s3.amazonaws.com/Mars/index.html\"\n",
    "browser.visit(url)\n",
    "html = browser.html\n",
    "soup = BeautifulSoup(html, \"html.parser\")"
   ]
  },
  {
   "cell_type": "markdown",
   "id": "3cb2bac3",
   "metadata": {},
   "source": [
    "## 3. Scrape the data in the HTML table."
   ]
  },
  {
   "cell_type": "code",
   "execution_count": 5,
   "id": "79672a93",
   "metadata": {},
   "outputs": [],
   "source": [
    "# Search for the html table with data\n",
    "html_table = soup.find(\"table\", class_=\"table\")"
   ]
  },
  {
   "cell_type": "code",
   "execution_count": 23,
   "id": "2dc79ef7",
   "metadata": {},
   "outputs": [
    {
     "data": {
      "text/plain": [
       "['id', 'terrestrial_date', 'sol', 'ls', 'month', 'min_temp', 'pressure']"
      ]
     },
     "execution_count": 23,
     "metadata": {},
     "output_type": "execute_result"
    }
   ],
   "source": [
    "# Search for the header\n",
    "html_table_header = html_table.find_all(\"th\")\n",
    "\n",
    "html_headers=[]\n",
    "for header_element in html_table_header:\n",
    "    title=header_element.text\n",
    "    html_headers.append(title)\n",
    "    \n",
    "html_headers"
   ]
  },
  {
   "cell_type": "markdown",
   "id": "b9b8e6ed",
   "metadata": {},
   "source": [
    "## 4. Assemble the scraped data into a Pandas DataFrame."
   ]
  },
  {
   "cell_type": "code",
   "execution_count": 49,
   "id": "1cf850b5",
   "metadata": {},
   "outputs": [
    {
     "data": {
      "text/html": [
       "<div>\n",
       "<style scoped>\n",
       "    .dataframe tbody tr th:only-of-type {\n",
       "        vertical-align: middle;\n",
       "    }\n",
       "\n",
       "    .dataframe tbody tr th {\n",
       "        vertical-align: top;\n",
       "    }\n",
       "\n",
       "    .dataframe thead th {\n",
       "        text-align: right;\n",
       "    }\n",
       "</style>\n",
       "<table border=\"1\" class=\"dataframe\">\n",
       "  <thead>\n",
       "    <tr style=\"text-align: right;\">\n",
       "      <th></th>\n",
       "      <th>id</th>\n",
       "      <th>terrestrial_date</th>\n",
       "      <th>sol</th>\n",
       "      <th>ls</th>\n",
       "      <th>month</th>\n",
       "      <th>min_temp</th>\n",
       "      <th>pressure</th>\n",
       "    </tr>\n",
       "  </thead>\n",
       "  <tbody>\n",
       "    <tr>\n",
       "      <th>0</th>\n",
       "      <td>2</td>\n",
       "      <td>2012-08-16</td>\n",
       "      <td>10</td>\n",
       "      <td>155</td>\n",
       "      <td>6</td>\n",
       "      <td>-75.0</td>\n",
       "      <td>739.0</td>\n",
       "    </tr>\n",
       "    <tr>\n",
       "      <th>1</th>\n",
       "      <td>13</td>\n",
       "      <td>2012-08-17</td>\n",
       "      <td>11</td>\n",
       "      <td>156</td>\n",
       "      <td>6</td>\n",
       "      <td>-76.0</td>\n",
       "      <td>740.0</td>\n",
       "    </tr>\n",
       "    <tr>\n",
       "      <th>2</th>\n",
       "      <td>24</td>\n",
       "      <td>2012-08-18</td>\n",
       "      <td>12</td>\n",
       "      <td>156</td>\n",
       "      <td>6</td>\n",
       "      <td>-76.0</td>\n",
       "      <td>741.0</td>\n",
       "    </tr>\n",
       "    <tr>\n",
       "      <th>3</th>\n",
       "      <td>35</td>\n",
       "      <td>2012-08-19</td>\n",
       "      <td>13</td>\n",
       "      <td>157</td>\n",
       "      <td>6</td>\n",
       "      <td>-74.0</td>\n",
       "      <td>732.0</td>\n",
       "    </tr>\n",
       "    <tr>\n",
       "      <th>4</th>\n",
       "      <td>46</td>\n",
       "      <td>2012-08-20</td>\n",
       "      <td>14</td>\n",
       "      <td>157</td>\n",
       "      <td>6</td>\n",
       "      <td>-74.0</td>\n",
       "      <td>740.0</td>\n",
       "    </tr>\n",
       "  </tbody>\n",
       "</table>\n",
       "</div>"
      ],
      "text/plain": [
       "   id terrestrial_date sol   ls month min_temp pressure\n",
       "0   2       2012-08-16  10  155     6    -75.0    739.0\n",
       "1  13       2012-08-17  11  156     6    -76.0    740.0\n",
       "2  24       2012-08-18  12  156     6    -76.0    741.0\n",
       "3  35       2012-08-19  13  157     6    -74.0    732.0\n",
       "4  46       2012-08-20  14  157     6    -74.0    740.0"
      ]
     },
     "execution_count": 49,
     "metadata": {},
     "output_type": "execute_result"
    }
   ],
   "source": [
    "# Turn into pandas dataframe\n",
    "scraped_df=pd.DataFrame(columns=html_headers)\n",
    "\n",
    "# Find scraped rows\n",
    "for rows in html_table.find_all(\"tr\",class_=\"data-row\"):\n",
    "        scraped_data = rows.find_all(\"td\")\n",
    "        row_data=[cell.text.strip() for cell in scraped_data]\n",
    "        lenghth=len(scraped_df)\n",
    "        scraped_df.loc[lenghth]=row_data\n",
    "        \n",
    "scraped_df.head(5)"
   ]
  },
  {
   "cell_type": "code",
   "execution_count": 34,
   "id": "999b1f77",
   "metadata": {},
   "outputs": [],
   "source": [
    "# Save df as a csv file\n",
    "scraped_df.to_csv(\"Resources/mars_pt2.csv\")"
   ]
  },
  {
   "cell_type": "markdown",
   "id": "f32d95ea",
   "metadata": {},
   "source": [
    "## 5. Examine the data types of all the DataFrame columns."
   ]
  },
  {
   "cell_type": "code",
   "execution_count": 50,
   "id": "fdc507f4",
   "metadata": {},
   "outputs": [
    {
     "data": {
      "text/plain": [
       "id                  object\n",
       "terrestrial_date    object\n",
       "sol                 object\n",
       "ls                  object\n",
       "month               object\n",
       "min_temp            object\n",
       "pressure            object\n",
       "dtype: object"
      ]
     },
     "execution_count": 50,
     "metadata": {},
     "output_type": "execute_result"
    }
   ],
   "source": [
    "# Examine data types\n",
    "scraped_df.dtypes"
   ]
  },
  {
   "cell_type": "code",
   "execution_count": 53,
   "id": "16c2567d",
   "metadata": {},
   "outputs": [
    {
     "data": {
      "text/plain": [
       "id                           int32\n",
       "terrestrial_date    datetime64[ns]\n",
       "sol                          int32\n",
       "ls                           int32\n",
       "month                        int32\n",
       "min_temp                   float64\n",
       "pressure                   float64\n",
       "dtype: object"
      ]
     },
     "execution_count": 53,
     "metadata": {},
     "output_type": "execute_result"
    }
   ],
   "source": [
    "# Change data types to the correct dtypes\n",
    "scraped_df.astype({'id': 'int32'}).dtypes\n",
    "scraped_df.astype({'terrestrial_date': 'datetime64[ns]'}).dtypes\n",
    "scraped_df.astype({'sol': 'int32'}).dtypes\n",
    "scraped_df.astype({'ls': 'int32'}).dtypes\n",
    "scraped_df.astype({'month': 'int32'}).dtypes\n",
    "scraped_df.astype({'min_temp': 'float64'}).dtypes\n",
    "scraped_df.astype({'pressure': 'float64'}).dtypes"
   ]
  },
  {
   "cell_type": "markdown",
   "id": "51c84adb",
   "metadata": {},
   "source": [
    "## 6. How many months exist on Mars?"
   ]
  },
  {
   "cell_type": "code",
   "execution_count": 56,
   "id": "6818f624",
   "metadata": {},
   "outputs": [
    {
     "name": "stdout",
     "output_type": "stream",
     "text": [
      "On Mars, there are a total of 12 months.\n"
     ]
    }
   ],
   "source": [
    "# How many months exist on Mars?\n",
    "no_of_months=scraped_df['month'].nunique()\n",
    "print(f'On Mars, there are a total of {no_of_months} months.')"
   ]
  },
  {
   "cell_type": "markdown",
   "id": "d0cad545",
   "metadata": {},
   "source": [
    "## 7. How many Martian (and not Earth) days worth of data exist in the scraped dataset?"
   ]
  },
  {
   "cell_type": "code",
   "execution_count": 57,
   "id": "833ec3a0",
   "metadata": {},
   "outputs": [
    {
     "name": "stdout",
     "output_type": "stream",
     "text": [
      "There are 1867 unique number of days in the scraped dataset.\n"
     ]
    }
   ],
   "source": [
    "# How many Martian days worth of data exist in the scraped dataset?\n",
    "martian_days=scraped_df['sol'].nunique()\n",
    "print(f'There are {martian_days} unique number of days in the scraped dataset.')"
   ]
  },
  {
   "cell_type": "markdown",
   "id": "03b892b8",
   "metadata": {},
   "source": [
    "## 8. What are the coldest and the warmest months on Mars (at the location of Curiosity)?"
   ]
  },
  {
   "cell_type": "code",
   "execution_count": 82,
   "id": "700f2122",
   "metadata": {},
   "outputs": [
    {
     "name": "stdout",
     "output_type": "stream",
     "text": [
      "[{'month #': 1, 'average temperature': -77.0}, {'month #': 2, 'average temperature': -80.0}, {'month #': 3, 'average temperature': -83.0}, {'month #': 4, 'average temperature': -83.0}, {'month #': 5, 'average temperature': -79.0}, {'month #': 6, 'average temperature': -75.0}, {'month #': 7, 'average temperature': -72.0}, {'month #': 8, 'average temperature': -68.0}, {'month #': 9, 'average temperature': -69.0}, {'month #': 10, 'average temperature': -72.0}, {'month #': 11, 'average temperature': -72.0}, {'month #': 12, 'average temperature': -74.0}]\n"
     ]
    }
   ],
   "source": [
    "# What are the coldest and the warmest months on Mars (at the location of Curiosity)?\n",
    "# Find the average temps of each month\n",
    "\n",
    "average_temperature=[]\n",
    "\n",
    "for i in range(1,no_of_months+1):\n",
    "    weather_per_month={\"month #\":\"\",\"average temperature\":\"\"}\n",
    "    avg_min_temp_month=scraped_df.loc[scraped_df['month']==i]['min_temp'].mean()\n",
    "    round_avg_min_temp_month = round(avg_min_temp_month,0)\n",
    "    weather_per_month[\"month #\"] = i\n",
    "    weather_per_month[\"average temperature\"] = round_avg_min_temp_month\n",
    "    average_temperature.append(weather_per_month)    \n",
    "\n",
    "print(average_temperature)  \n"
   ]
  },
  {
   "cell_type": "code",
   "execution_count": 86,
   "id": "a83747d7",
   "metadata": {},
   "outputs": [
    {
     "data": {
      "text/html": [
       "<div>\n",
       "<style scoped>\n",
       "    .dataframe tbody tr th:only-of-type {\n",
       "        vertical-align: middle;\n",
       "    }\n",
       "\n",
       "    .dataframe tbody tr th {\n",
       "        vertical-align: top;\n",
       "    }\n",
       "\n",
       "    .dataframe thead th {\n",
       "        text-align: right;\n",
       "    }\n",
       "</style>\n",
       "<table border=\"1\" class=\"dataframe\">\n",
       "  <thead>\n",
       "    <tr style=\"text-align: right;\">\n",
       "      <th></th>\n",
       "      <th>month #</th>\n",
       "      <th>average temperature</th>\n",
       "    </tr>\n",
       "  </thead>\n",
       "  <tbody>\n",
       "    <tr>\n",
       "      <th>2</th>\n",
       "      <td>3</td>\n",
       "      <td>-83</td>\n",
       "    </tr>\n",
       "    <tr>\n",
       "      <th>3</th>\n",
       "      <td>4</td>\n",
       "      <td>-83</td>\n",
       "    </tr>\n",
       "    <tr>\n",
       "      <th>1</th>\n",
       "      <td>2</td>\n",
       "      <td>-80</td>\n",
       "    </tr>\n",
       "    <tr>\n",
       "      <th>4</th>\n",
       "      <td>5</td>\n",
       "      <td>-79</td>\n",
       "    </tr>\n",
       "    <tr>\n",
       "      <th>0</th>\n",
       "      <td>1</td>\n",
       "      <td>-77</td>\n",
       "    </tr>\n",
       "    <tr>\n",
       "      <th>5</th>\n",
       "      <td>6</td>\n",
       "      <td>-75</td>\n",
       "    </tr>\n",
       "    <tr>\n",
       "      <th>11</th>\n",
       "      <td>12</td>\n",
       "      <td>-74</td>\n",
       "    </tr>\n",
       "    <tr>\n",
       "      <th>6</th>\n",
       "      <td>7</td>\n",
       "      <td>-72</td>\n",
       "    </tr>\n",
       "    <tr>\n",
       "      <th>9</th>\n",
       "      <td>10</td>\n",
       "      <td>-72</td>\n",
       "    </tr>\n",
       "    <tr>\n",
       "      <th>10</th>\n",
       "      <td>11</td>\n",
       "      <td>-72</td>\n",
       "    </tr>\n",
       "    <tr>\n",
       "      <th>8</th>\n",
       "      <td>9</td>\n",
       "      <td>-69</td>\n",
       "    </tr>\n",
       "    <tr>\n",
       "      <th>7</th>\n",
       "      <td>8</td>\n",
       "      <td>-68</td>\n",
       "    </tr>\n",
       "  </tbody>\n",
       "</table>\n",
       "</div>"
      ],
      "text/plain": [
       "    month #  average temperature\n",
       "2         3                  -83\n",
       "3         4                  -83\n",
       "1         2                  -80\n",
       "4         5                  -79\n",
       "0         1                  -77\n",
       "5         6                  -75\n",
       "11       12                  -74\n",
       "6         7                  -72\n",
       "9        10                  -72\n",
       "10       11                  -72\n",
       "8         9                  -69\n",
       "7         8                  -68"
      ]
     },
     "execution_count": 86,
     "metadata": {},
     "output_type": "execute_result"
    }
   ],
   "source": [
    "json_mars_avg_temps = json.dumps(average_temperature)\n",
    "# Save the json file just created as a pandas df\n",
    "monthly_temps_df=pd.read_json(json_mars_avg_temps)\n",
    "# Sort by avg temp from lowest to highest\n",
    "monthly_temps_df.sort_values(by='average temperature', ascending=True)"
   ]
  },
  {
   "cell_type": "code",
   "execution_count": 93,
   "id": "94f33d6e",
   "metadata": {},
   "outputs": [
    {
     "name": "stdout",
     "output_type": "stream",
     "text": [
      "On Mars, the coldest month appears to be month 3 at the temperature of -83, and the warmest is month 8 at the temperature of -68\n"
     ]
    }
   ],
   "source": [
    "# show coldest and hottest months on Mars\n",
    "min_temp = monthly_temps_df['average temperature'].min()\n",
    "max_temp = monthly_temps_df['average temperature'].max()\n",
    "print(f'On Mars, the coldest month appears to be month 3 at the temperature of {min_temp}, and the warmest is month 8 at the temperature of {max_temp}')"
   ]
  },
  {
   "cell_type": "code",
   "execution_count": 102,
   "id": "0ca7879b",
   "metadata": {},
   "outputs": [
    {
     "data": {
      "text/plain": [
       "Text(0.5, 1.0, 'Avg Temperature on Mars by Month')"
      ]
     },
     "execution_count": 102,
     "metadata": {},
     "output_type": "execute_result"
    },
    {
     "data": {
      "image/png": "[encoded data removed]",
      "text/plain": [
       "<Figure size 640x480 with 1 Axes>"
      ]
     },
     "metadata": {},
     "output_type": "display_data"
    }
   ],
   "source": [
    "# Plot monthly_temps_df as a bar chart\n",
    "plt.bar(monthly_temps_df['month #'],monthly_temps_df['average temperature'], color='b', alpha= 0.5)\n",
    "\n",
    "# Create labels for the x and y axes.\n",
    "plt.xlabel(\"Mars Months\")\n",
    "plt.ylabel(\"Average Temperature\")\n",
    "\n",
    "# Create title \n",
    "plt.title('Avg Temperature on Mars by Month')"
   ]
  },
  {
   "cell_type": "markdown",
   "id": "793fee0b",
   "metadata": {},
   "source": [
    "## 9. Which months have the lowest and the highest atmospheric pressure on Mars?"
   ]
  },
  {
   "cell_type": "code",
   "execution_count": 97,
   "id": "13a1f6d1",
   "metadata": {},
   "outputs": [
    {
     "data": {
      "text/html": [
       "<div>\n",
       "<style scoped>\n",
       "    .dataframe tbody tr th:only-of-type {\n",
       "        vertical-align: middle;\n",
       "    }\n",
       "\n",
       "    .dataframe tbody tr th {\n",
       "        vertical-align: top;\n",
       "    }\n",
       "\n",
       "    .dataframe thead th {\n",
       "        text-align: right;\n",
       "    }\n",
       "</style>\n",
       "<table border=\"1\" class=\"dataframe\">\n",
       "  <thead>\n",
       "    <tr style=\"text-align: right;\">\n",
       "      <th></th>\n",
       "      <th>pressure</th>\n",
       "    </tr>\n",
       "    <tr>\n",
       "      <th>month</th>\n",
       "      <th></th>\n",
       "    </tr>\n",
       "  </thead>\n",
       "  <tbody>\n",
       "    <tr>\n",
       "      <th>6</th>\n",
       "      <td>745.054422</td>\n",
       "    </tr>\n",
       "    <tr>\n",
       "      <th>5</th>\n",
       "      <td>748.557047</td>\n",
       "    </tr>\n",
       "    <tr>\n",
       "      <th>7</th>\n",
       "      <td>795.105634</td>\n",
       "    </tr>\n",
       "    <tr>\n",
       "      <th>4</th>\n",
       "      <td>806.329897</td>\n",
       "    </tr>\n",
       "    <tr>\n",
       "      <th>12</th>\n",
       "      <td>842.156627</td>\n",
       "    </tr>\n",
       "    <tr>\n",
       "      <th>11</th>\n",
       "      <td>857.014493</td>\n",
       "    </tr>\n",
       "    <tr>\n",
       "      <th>1</th>\n",
       "      <td>862.488506</td>\n",
       "    </tr>\n",
       "    <tr>\n",
       "      <th>8</th>\n",
       "      <td>873.829787</td>\n",
       "    </tr>\n",
       "    <tr>\n",
       "      <th>3</th>\n",
       "      <td>877.322917</td>\n",
       "    </tr>\n",
       "    <tr>\n",
       "      <th>10</th>\n",
       "      <td>887.312500</td>\n",
       "    </tr>\n",
       "    <tr>\n",
       "      <th>2</th>\n",
       "      <td>889.455056</td>\n",
       "    </tr>\n",
       "    <tr>\n",
       "      <th>9</th>\n",
       "      <td>913.305970</td>\n",
       "    </tr>\n",
       "  </tbody>\n",
       "</table>\n",
       "</div>"
      ],
      "text/plain": [
       "         pressure\n",
       "month            \n",
       "6      745.054422\n",
       "5      748.557047\n",
       "7      795.105634\n",
       "4      806.329897\n",
       "12     842.156627\n",
       "11     857.014493\n",
       "1      862.488506\n",
       "8      873.829787\n",
       "3      877.322917\n",
       "10     887.312500\n",
       "2      889.455056\n",
       "9      913.305970"
      ]
     },
     "execution_count": 97,
     "metadata": {},
     "output_type": "execute_result"
    }
   ],
   "source": [
    "\n",
    "# Find the average pressure of each month\n",
    "months_df=scraped_df.groupby('month')\n",
    "pressure_by_month_df=months_df.mean().loc[:,['pressure']]\n",
    "# Sort by avg pressure from lowest to highest\n",
    "pressure_by_month_df.sort_values(by='pressure', ascending=True)"
   ]
  },
  {
   "cell_type": "code",
   "execution_count": 98,
   "id": "9baba6e0",
   "metadata": {},
   "outputs": [
    {
     "name": "stdout",
     "output_type": "stream",
     "text": [
      "On Mars, the lowest pressure month appears to be month 6 at the pressure of 745.0544217687075, and the highest pressure is month 9 at the amount of 913.3059701492538\n"
     ]
    }
   ],
   "source": [
    "# show highest and lowest pressure months on Mars\n",
    "lowest_pressure = pressure_by_month_df['pressure'].min()\n",
    "highest_pressure = pressure_by_month_df['pressure'].max()\n",
    "print(f'On Mars, the lowest pressure month appears to be month 6 at the pressure of {lowest_pressure}, and the highest pressure is month 9 at the amount of {highest_pressure}')"
   ]
  },
  {
   "cell_type": "code",
   "execution_count": 115,
   "id": "ca5ebf7d",
   "metadata": {},
   "outputs": [
    {
     "data": {
      "text/plain": [
       "Text(0.5, 1.0, 'Avg Pressure on Mars by Month')"
      ]
     },
     "execution_count": 115,
     "metadata": {},
     "output_type": "execute_result"
    },
    {
     "data": {
      "image/png": "[encoded data removed]",
      "text/plain": [
       "<Figure size 640x480 with 1 Axes>"
      ]
     },
     "metadata": {},
     "output_type": "display_data"
    }
   ],
   "source": [
    "# Plot pressure_by_month_df as a bar chart\n",
    "mths = range(1, 13)\n",
    "plt.bar(mths,pressure_by_month_df['pressure'], color='purple', alpha= 0.5)\n",
    "\n",
    "# Create labels for the x and y axes.\n",
    "plt.xlabel(\"Mars Months\")\n",
    "plt.ylabel(\"Average Pressure\")\n",
    "\n",
    "# Create title \n",
    "plt.title('Avg Pressure on Mars by Month')"
   ]
  },
  {
   "cell_type": "markdown",
   "id": "63c909ed",
   "metadata": {},
   "source": [
    "## Export the DataFrame to a CSV file."
   ]
  },
  {
   "cell_type": "code",
   "execution_count": 118,
   "id": "fdb838c5",
   "metadata": {},
   "outputs": [],
   "source": [
    "# Save df as a csv file\n",
    "scraped_df.to_csv(\"Resources/mars_pt2.csv\")"
   ]
  }
 ],
 "metadata": {
  "kernelspec": {
   "display_name": "Python 3 (ipykernel)",
   "language": "python",
   "name": "python3"
  },
  "language_info": {
   "codemirror_mode": {
    "name": "ipython",
    "version": 3
   },
   "file_extension": ".py",
   "mimetype": "text/x-python",
   "name": "python",
   "nbconvert_exporter": "python",
   "pygments_lexer": "ipython3",
   "version": "3.8.13"
  },
  "vscode": {
   "interpreter": {
    "hash": "a0745a12c7e3f9fcbce0e510fec5e47abeba3a9cce8462bc07ae90d121dabf2d"
   }
  }
 },
 "nbformat": 4,
 "nbformat_minor": 5
}
